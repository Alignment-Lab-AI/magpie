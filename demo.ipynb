{
 "cells": [
  {
   "cell_type": "markdown",
   "metadata": {},
   "source": [
    "## Magpie Toy Example"
   ]
  },
  {
   "cell_type": "code",
   "execution_count": 1,
   "metadata": {},
   "outputs": [
    {
     "name": "stderr",
     "output_type": "stream",
     "text": [
      "Special tokens have been added in the vocabulary, make sure the associated word embeddings are fine-tuned or trained.\n"
     ]
    },
    {
     "data": {
      "application/vnd.jupyter.widget-view+json": {
       "model_id": "57728051a3ce450592877da55cece7b7",
       "version_major": 2,
       "version_minor": 0
      },
      "text/plain": [
       "Loading checkpoint shards:   0%|          | 0/4 [00:00<?, ?it/s]"
      ]
     },
     "metadata": {},
     "output_type": "display_data"
    },
    {
     "name": "stderr",
     "output_type": "stream",
     "text": [
      "Special tokens have been added in the vocabulary, make sure the associated word embeddings are fine-tuned or trained.\n"
     ]
    }
   ],
   "source": [
    "import transformers\n",
    "import torch\n",
    "import json\n",
    "from transformers import AutoTokenizer\n",
    "\n",
    "model_id = \"meta-llama/Meta-Llama-3-8B-Instruct\"\n",
    "tokenizer = AutoTokenizer.from_pretrained(model_id, add_special_tokens=True)\n",
    "\n",
    "pipeline = transformers.pipeline(\n",
    "    \"text-generation\",\n",
    "    model=model_id,\n",
    "    model_kwargs={\"torch_dtype\": torch.bfloat16},\n",
    "    device=\"cuda:0\",\n",
    ")"
   ]
  },
  {
   "cell_type": "markdown",
   "metadata": {},
   "source": [
    "#### Let's prepare the left-side template"
   ]
  },
  {
   "cell_type": "code",
   "execution_count": 4,
   "metadata": {},
   "outputs": [
    {
     "name": "stdout",
     "output_type": "stream",
     "text": [
      "<|begin_of_text|><|start_header_id|>user<|end_header_id|>\n",
      "\n",
      "\n"
     ]
    }
   ],
   "source": [
    "with open(\"configs/model_configs.json\", \"r\") as f:\n",
    "    model_configs = json.load(f)\n",
    "    model_config = model_configs[model_id]\n",
    "\n",
    "# Prompt for extracting instructions from Llama-3-8B-Instruct\n",
    "extract_input = model_config[\"extract_input\"]\n",
    "print(extract_input)"
   ]
  },
  {
   "cell_type": "markdown",
   "metadata": {},
   "source": [
    "#### Step 1: Extracting Instructions"
   ]
  },
  {
   "cell_type": "code",
   "execution_count": 9,
   "metadata": {},
   "outputs": [
    {
     "name": "stderr",
     "output_type": "stream",
     "text": [
      "Setting `pad_token_id` to `eos_token_id`:128009 for open-end generation.\n"
     ]
    },
    {
     "name": "stdout",
     "output_type": "stream",
     "text": [
      "Extracted Instruction: What are the best ways to save money on your vacation?\n"
     ]
    }
   ],
   "source": [
    "terminators = [\n",
    "    tokenizer.eos_token_id,\n",
    "    tokenizer.convert_tokens_to_ids(\"<|eot_id|>\"),\n",
    "]\n",
    "\n",
    "instruction = pipeline(\n",
    "    extract_input,\n",
    "    max_new_tokens=2048,\n",
    "    eos_token_id=terminators,\n",
    "    do_sample=True,\n",
    "    temperature=1,\n",
    "    top_p=1,\n",
    ")\n",
    "\n",
    "sanitized_instruction = instruction[0]['generated_text'][len(extract_input):].split(\"\\n\")[0]\n",
    "print(f\"Extracted Instruction: {sanitized_instruction}\")"
   ]
  },
  {
   "cell_type": "markdown",
   "metadata": {},
   "source": [
    "#### Step 2: Generating Responses"
   ]
  },
  {
   "cell_type": "code",
   "execution_count": 13,
   "metadata": {},
   "outputs": [
    {
     "name": "stderr",
     "output_type": "stream",
     "text": [
      "Setting `pad_token_id` to `eos_token_id`:128009 for open-end generation.\n"
     ]
    }
   ],
   "source": [
    "response_template = f'''<|begin_of_text|><|start_header_id|>user<|end_header_id|>\\n\\n{sanitized_instruction}<|eot_id|><|start_header_id|>assistant<|end_header_id|>\\n\\n'''\n",
    "\n",
    "terminators = [\n",
    "    tokenizer.eos_token_id,\n",
    "    tokenizer.convert_tokens_to_ids(\"<|eot_id|>\")\n",
    "]\n",
    "\n",
    "response = pipeline(\n",
    "    response_template,\n",
    "    max_new_tokens=2048,\n",
    "    eos_token_id=terminators,\n",
    "    do_sample=True,\n",
    "    temperature=1,\n",
    "    top_p=1,\n",
    ")"
   ]
  },
  {
   "cell_type": "markdown",
   "metadata": {},
   "source": [
    "### We have successfully created an instruction-response pair!"
   ]
  },
  {
   "cell_type": "code",
   "execution_count": 14,
   "metadata": {},
   "outputs": [
    {
     "name": "stdout",
     "output_type": "stream",
     "text": [
      "User's message: What are the best ways to save money on your vacation?\n",
      "Assitant's response: Here are some effective ways to save money on your vacation:\n",
      "\n",
      "1. Plan ahead: Book your flights, accommodations, and activities well in advance to take advantage of early-bird discounts.\n",
      "2. Be flexible: Consider traveling during the off-season or during less popular times of the week (e.g., Tuesdays, Wednesdays) when prices tend to be lower.\n",
      "3. Use travel rewards: Sign up for credit cards or loyalty programs that offer rewards in the form of travel points or miles.\n",
      "4. Look for package deals: Booking a package deal that includes flights, accommodations, and activities can often be cheaper than booking each component separately.\n",
      "5. Choose budget-friendly accommodations: Consider staying in a hostel, Airbnb, or budget hotel instead of a luxury resort.\n",
      "6. Pack smart: Bring your own snacks, water, and other essentials to avoid overpriced touristy spots.\n",
      "7. Take advantage of free stuff: Research free attractions, walking tours, and cultural events in the area you're visiting.\n",
      "8. Eat local: Instead of eating at expensive touristy restaurants, try local eateries, street food, or cook your own meals.\n",
      "9. Use public transportation: Instead of renting a car or taking taxis, use public transportation like buses, trains, or subways.\n",
      "10. Avoid unnecessary extras: Be mindful of extra fees for things like resort fees, parking, or travel insurance.\n",
      "11. Use travel apps: Download apps like Hopper, Skyscanner, or Google Trips to help you find the best deals and plan your trip.\n",
      "12. Consider alternative destinations: If you're looking for a beach vacation, consider destinations like Cancun or Puerto Vallarta instead of more expensive places like Hawaii or Bali.\n",
      "13. Use travel credit cards: Use credit cards that offer travel-specific perks like airport lounge access, travel insurance, or concierge services.\n",
      "14. Book in advance for popular activities: Book popular activities like tickets to theme parks, attractions, or tours in advance to avoid sold-out situations and overpriced walk-up prices.\n",
      "15. Take advantage of discount cards: Look for discount cards or passes that allow you to visit multiple attractions at a reduced cost, like museum or city passes.\n",
      "16. Avoid travel insurance: Unless you're traveling to a non-traditional destination or have a pre-existing medical condition, consider skipping travel insurance and using your own health insurance instead.\n",
      "17. Pack a portable charger: Bring a portable charger to avoid having to pay for expensive batteries or charging services.\n",
      "18. Use cashback websites: Use cashback websites like Ebates or TopCashback to earn rewards on your travel purchases.\n",
      "19. Consider an all-inclusive resort: Booking an all-inclusive resort can sometimes be cheaper than booking separate flights, accommodations, and activities.\n",
      "20. Be mindful of currency exchange: Avoid exchanging money at airports or touristy spots, where rates tend to be unfavorable. Instead, use ATMs or exchange services.\n",
      "\n",
      "By implementing these strategies, you can save money on your vacation and enjoy a more affordable and stress-free trip.\n"
     ]
    }
   ],
   "source": [
    "print(f\"User's message: {sanitized_instruction}\")\n",
    "print(f\"Assitant's response: {response[0]['generated_text'][len(response_template):]}\")"
   ]
  }
 ],
 "metadata": {
  "kernelspec": {
   "display_name": "datareverse",
   "language": "python",
   "name": "python3"
  },
  "language_info": {
   "codemirror_mode": {
    "name": "ipython",
    "version": 3
   },
   "file_extension": ".py",
   "mimetype": "text/x-python",
   "name": "python",
   "nbconvert_exporter": "python",
   "pygments_lexer": "ipython3",
   "version": "3.10.14"
  }
 },
 "nbformat": 4,
 "nbformat_minor": 2
}
